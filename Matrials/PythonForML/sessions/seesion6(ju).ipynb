{
 "cells": [
  {
   "cell_type": "code",
   "execution_count": 1,
   "metadata": {},
   "outputs": [
    {
     "name": "stdout",
     "output_type": "stream",
     "text": [
      "mohamed\n"
     ]
    }
   ],
   "source": [
    "print(\"mohamed\")"
   ]
  },
  {
   "cell_type": "code",
   "execution_count": 2,
   "metadata": {},
   "outputs": [
    {
     "name": "stdout",
     "output_type": "stream",
     "text": [
      "True\n"
     ]
    }
   ],
   "source": [
    "def isPrime(num):\n",
    "    for i in range(2 , num):\n",
    "        if num % i == 0:\n",
    "            return False\n",
    "    return True \n",
    "\n",
    "print(isPrime(11))"
   ]
  },
  {
   "cell_type": "code",
   "execution_count": 3,
   "metadata": {},
   "outputs": [
    {
     "name": "stdout",
     "output_type": "stream",
     "text": [
      "[1]\n",
      "[1, 2, 4, 5, 10, 20]\n"
     ]
    }
   ],
   "source": [
    "def common_dividors(num1,num2):\n",
    "    mn = min(num1,num2)\n",
    "    commom_dividors = []\n",
    "    for i in range (1 , mn+1):\n",
    "        if num1 % i == 0 and num2 % i== 0:\n",
    "            commom_dividors.append(i)\n",
    "    return commom_dividors\n",
    "\n",
    "print(common_dividors(6,5))\n",
    "print(common_dividors(100,80))"
   ]
  },
  {
   "cell_type": "code",
   "execution_count": null,
   "metadata": {},
   "outputs": [],
   "source": [
    "def Common_Dividors(num1,num2):\n",
    "    mn = min(num1,num2)\n",
    "    common_dividors = []\n",
    "    "
   ]
  },
  {
   "cell_type": "code",
   "execution_count": 4,
   "metadata": {},
   "outputs": [
    {
     "name": "stdout",
     "output_type": "stream",
     "text": [
      "[1, 2, 4]\n"
     ]
    }
   ],
   "source": [
    "class commn_dividors:\n",
    "    def __init__(self , num1 , num2):\n",
    "        self.num1 = num1\n",
    "        self.num2 = num2\n",
    "\n",
    "    def dividors(self):\n",
    "        mn = min(self.num1,self.num2)\n",
    "\n",
    "        commn_list = []\n",
    "        for i in range (1 , mn+1):\n",
    "            if self.num1 % i == 0 and self.num2 % i== 0:\n",
    "                commn_list.append(i)\n",
    "        return commn_list\n",
    "\n",
    "f1 = commn_dividors(4,8)\n",
    "print(f1.dividors())"
   ]
  },
  {
   "cell_type": "code",
   "execution_count": 5,
   "metadata": {},
   "outputs": [
    {
     "data": {
      "text/plain": [
       "'a'"
      ]
     },
     "execution_count": 5,
     "metadata": {},
     "output_type": "execute_result"
    }
   ],
   "source": [
    "str1 = input(\"Enter First Sentence :\")\n",
    "str2 = input(\"Enter second Sentence :\")\n",
    "\n",
    "longes_str = \"\"\n",
    "for i in range (len(str1)):\n",
    "    for j in range (i, len(str1)):\n",
    "        sub_str = str1[i:j-1]\n",
    "        if sub_str in str2:\n",
    "            if len(sub_str) > len(longes_str):\n",
    "                longes_str = sub_str\n",
    "\n",
    "longes_str\n"
   ]
  },
  {
   "cell_type": "code",
   "execution_count": 6,
   "metadata": {},
   "outputs": [
    {
     "name": "stdout",
     "output_type": "stream",
     "text": [
      "ali\n"
     ]
    }
   ],
   "source": [
    "def Extract_Text(str1,str2):\n",
    "\n",
    "    letter_list = \"\"\n",
    "    for i in range (len(str1)):\n",
    "        for j in range (i+1,len(str1)+1):\n",
    "            sub_string = str1[i:j]\n",
    "            if sub_string in str2:\n",
    "                if len(sub_string) > len(letter_list):\n",
    "                    letter_list = sub_string\n",
    "    return letter_list\n",
    "print(Extract_Text(\"mohamed ali\",\"ali abdallah\"))\n",
    "\n",
    "\n",
    "\n"
   ]
  },
  {
   "cell_type": "code",
   "execution_count": 7,
   "metadata": {},
   "outputs": [
    {
     "name": "stdout",
     "output_type": "stream",
     "text": [
      " Ali\n"
     ]
    }
   ],
   "source": [
    "class Extract_Text:\n",
    "    def __init__(self , str1 , str2):\n",
    "        self.str1 = str1\n",
    "        self.str2 = str2\n",
    "\n",
    "    def extract_text(self):\n",
    "\n",
    "        letter_list = \"\"\n",
    "        for i in range (len(self.str1)):\n",
    "            for j in range (i+1,len(self.str1)+1):\n",
    "                sub_string = self.str1[i:j]\n",
    "                if sub_string in self.str2:\n",
    "                    if len(sub_string) > len(letter_list):\n",
    "                        letter_list = sub_string\n",
    "        return letter_list\n",
    "f1=Extract_Text(\"Mohamed Ali\",\"hassan Ali \")\n",
    "print(f1.extract_text())\n",
    "\n"
   ]
  },
  {
   "cell_type": "code",
   "execution_count": 8,
   "metadata": {},
   "outputs": [
    {
     "name": "stdout",
     "output_type": "stream",
     "text": [
      "f4'n;nls\n"
     ]
    }
   ],
   "source": [
    "import random\n",
    "def generate_passwrd(length):\n",
    "    characters = \"nsbklfsnmbklfnblfnk;lbnfm'l;ldfsvm;ldfsmb;lfsmb;lfsbmfslmbfs;lbmdfs;lbmodfslbmkldfs bkldfsbdfk;l5415841458415158451\"\n",
    "    num_of_chars = len(characters)\n",
    "    password = \"\"\n",
    "    \n",
    "    for _ in range (length):\n",
    "        rand_index = random.randrange(0,num_of_chars)\n",
    "        password += characters[rand_index]\n",
    "\n",
    "    return password\n",
    "\n",
    "password_length = 8\n",
    "random_password = generate_passwrd(password_length)\n",
    "print(random_password)"
   ]
  },
  {
   "cell_type": "code",
   "execution_count": 9,
   "metadata": {},
   "outputs": [
    {
     "ename": "TypeError",
     "evalue": "'str' object cannot be interpreted as an integer",
     "output_type": "error",
     "traceback": [
      "\u001b[1;31m---------------------------------------------------------------------------\u001b[0m",
      "\u001b[1;31mTypeError\u001b[0m                                 Traceback (most recent call last)",
      "Cell \u001b[1;32mIn[9], line 3\u001b[0m\n\u001b[0;32m      1\u001b[0m \u001b[38;5;28;01mimport\u001b[39;00m \u001b[38;5;21;01mos\u001b[39;00m\n\u001b[1;32m----> 3\u001b[0m input_file \u001b[38;5;241m=\u001b[39m \u001b[43mos\u001b[49m\u001b[38;5;241;43m.\u001b[39;49m\u001b[43mopen\u001b[49m\u001b[43m(\u001b[49m\u001b[38;5;124;43mr\u001b[39;49m\u001b[38;5;124;43m\"\u001b[39;49m\u001b[38;5;124;43mC:\u001b[39;49m\u001b[38;5;124;43m\\\u001b[39;49m\u001b[38;5;124;43mUsers\u001b[39;49m\u001b[38;5;124;43m\\\u001b[39;49m\u001b[38;5;124;43m20122\u001b[39;49m\u001b[38;5;124;43m\\\u001b[39;49m\u001b[38;5;124;43mDesktop\u001b[39;49m\u001b[38;5;124;43m\\\u001b[39;49m\u001b[38;5;124;43mAMIT\u001b[39;49m\u001b[38;5;124;43m\\\u001b[39;49m\u001b[38;5;124;43mMatrials\u001b[39;49m\u001b[38;5;124;43m\\\u001b[39;49m\u001b[38;5;124;43mPythonForML\u001b[39;49m\u001b[38;5;124;43m\\\u001b[39;49m\u001b[38;5;124;43msessions\u001b[39;49m\u001b[38;5;124;43m\\\u001b[39;49m\u001b[38;5;124;43minput_file.txt\u001b[39;49m\u001b[38;5;124;43m\"\u001b[39;49m\u001b[43m \u001b[49m\u001b[43m,\u001b[49m\u001b[43m \u001b[49m\u001b[38;5;124;43m'\u001b[39;49m\u001b[38;5;124;43mr\u001b[39;49m\u001b[38;5;124;43m'\u001b[39;49m\u001b[43m)\u001b[49m\n\u001b[0;32m      4\u001b[0m \u001b[38;5;28;01mdef\u001b[39;00m \u001b[38;5;21mread_count_file\u001b[39m(input_file):\n\u001b[0;32m      5\u001b[0m     text \u001b[38;5;241m=\u001b[39m input_file\u001b[38;5;241m.\u001b[39mread()\n",
      "\u001b[1;31mTypeError\u001b[0m: 'str' object cannot be interpreted as an integer"
     ]
    }
   ],
   "source": [
    "import os\n",
    "\n",
    "input_file = os.open(r\"C:\\Users\\20122\\Desktop\\AMIT\\Matrials\\PythonForML\\sessions\\input_file.txt\" , 'r')\n",
    "def read_count_file(input_file):\n",
    "    text = input_file.read()\n",
    "    input_file.close()\n",
    "    text = text.replace(\"\\n\" , ' ')\n",
    "    words = text.split(' ')\n",
    "    unique_words = set(words)\n",
    "    word_count = dict()\n",
    "    \n",
    "    for word in unique_words:\n",
    "        word_count[word] = word.count(word)\n",
    "        output_file = open('output_file.txt' , 'w')\n",
    "    for word in word_count:\n",
    "        output_file.write(\"{}:{}\\n\" .format(word , word_count[word]))\n",
    "    output_file.close()"
   ]
  },
  {
   "cell_type": "code",
   "execution_count": null,
   "metadata": {},
   "outputs": [],
   "source": []
  },
  {
   "cell_type": "code",
   "execution_count": null,
   "metadata": {},
   "outputs": [],
   "source": []
  },
  {
   "cell_type": "code",
   "execution_count": null,
   "metadata": {},
   "outputs": [],
   "source": []
  },
  {
   "cell_type": "code",
   "execution_count": null,
   "metadata": {},
   "outputs": [],
   "source": []
  },
  {
   "cell_type": "code",
   "execution_count": null,
   "metadata": {},
   "outputs": [],
   "source": []
  },
  {
   "cell_type": "code",
   "execution_count": null,
   "metadata": {},
   "outputs": [],
   "source": []
  },
  {
   "cell_type": "code",
   "execution_count": null,
   "metadata": {},
   "outputs": [],
   "source": []
  }
 ],
 "metadata": {
  "kernelspec": {
   "display_name": "Python 3",
   "language": "python",
   "name": "python3"
  },
  "language_info": {
   "codemirror_mode": {
    "name": "ipython",
    "version": 3
   },
   "file_extension": ".py",
   "mimetype": "text/x-python",
   "name": "python",
   "nbconvert_exporter": "python",
   "pygments_lexer": "ipython3",
   "version": "3.12.7"
  }
 },
 "nbformat": 4,
 "nbformat_minor": 2
}
